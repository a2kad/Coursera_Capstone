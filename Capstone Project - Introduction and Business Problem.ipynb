{
 "cells": [
  {
   "cell_type": "markdown",
   "id": "6945e203",
   "metadata": {},
   "source": [
    "<img src=\"logo.png\" width=180 height=180 />"
   ]
  },
  {
   "cell_type": "markdown",
   "id": "d77581ea",
   "metadata": {},
   "source": [
    "# Introduction"
   ]
  },
  {
   "cell_type": "markdown",
   "id": "635ba055",
   "metadata": {},
   "source": [
    "In such a large and multicultural city like Toronto, it is very difficult to choose a place to open a restaurant. People have different preferences. The level of competition differs from area to area. Data Science will help us do this"
   ]
  },
  {
   "cell_type": "markdown",
   "id": "f75fabb5",
   "metadata": {},
   "source": [
    "# Business Problem"
   ]
  },
  {
   "cell_type": "markdown",
   "id": "c351af75",
   "metadata": {},
   "source": [
    "For an investor who would like to invest their money in the restaurant business, it may be important to know the level of competition in the area where he plans to open a restaurant. Using open data, it is possible to determine the number of restaurants per 1000 people. I will be using Toronto's public statistics. I will determine the population of the city districts. Then I will pull data from Foursquare to determine the number of restaurants. Using this data, you can determine the level of competition in each borough of Toronto. This will allow the investor to more easily decide in which district of the city to open a restaurant."
   ]
  },
  {
   "cell_type": "code",
   "execution_count": null,
   "id": "4f967412",
   "metadata": {},
   "outputs": [],
   "source": []
  }
 ],
 "metadata": {
  "kernelspec": {
   "display_name": "Python 3",
   "language": "python",
   "name": "python3"
  },
  "language_info": {
   "codemirror_mode": {
    "name": "ipython",
    "version": 3
   },
   "file_extension": ".py",
   "mimetype": "text/x-python",
   "name": "python",
   "nbconvert_exporter": "python",
   "pygments_lexer": "ipython3",
   "version": "3.8.8"
  }
 },
 "nbformat": 4,
 "nbformat_minor": 5
}
